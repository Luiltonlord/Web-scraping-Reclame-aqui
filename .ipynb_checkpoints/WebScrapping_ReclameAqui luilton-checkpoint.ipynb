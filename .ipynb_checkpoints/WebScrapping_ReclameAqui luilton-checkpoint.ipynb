{
 "cells": [
  {
   "cell_type": "markdown",
   "id": "1e1fd113",
   "metadata": {
    "id": "1e1fd113"
   },
   "source": [
    "## Web Scrapping no site Reclame Aqui\n",
    "Web Automation com Selenium\n",
    "\n",
    "Este projeto foi Baseado do projeto de Ana Paula Machado, onde foi possivel obter vários dados do reclame aqui.\n"
   ]
  },
  {
   "cell_type": "markdown",
   "id": "acc7e202",
   "metadata": {
    "id": "acc7e202"
   },
   "source": [
    "## Importação dos Módulos"
   ]
  },
  {
   "cell_type": "code",
   "execution_count": 1,
   "id": "2196b682",
   "metadata": {
    "colab": {
     "base_uri": "https://localhost:8080/",
     "height": 373
    },
    "id": "2196b682",
    "outputId": "d3cfafbc-27ca-4e73-99fa-9d82917783d3"
   },
   "outputs": [
    {
     "ename": "ModuleNotFoundError",
     "evalue": "No module named 'selenium'",
     "output_type": "error",
     "traceback": [
      "\u001b[1;31m---------------------------------------------------------------------------\u001b[0m",
      "\u001b[1;31mModuleNotFoundError\u001b[0m                       Traceback (most recent call last)",
      "Input \u001b[1;32mIn [1]\u001b[0m, in \u001b[0;36m<cell line: 8>\u001b[1;34m()\u001b[0m\n\u001b[0;32m      4\u001b[0m \u001b[38;5;28;01mfrom\u001b[39;00m \u001b[38;5;21;01mdatetime\u001b[39;00m \u001b[38;5;28;01mimport\u001b[39;00m datetime\n\u001b[0;32m      5\u001b[0m \u001b[38;5;28;01mfrom\u001b[39;00m \u001b[38;5;21;01moperator\u001b[39;00m \u001b[38;5;28;01mimport\u001b[39;00m concat\n\u001b[1;32m----> 8\u001b[0m \u001b[38;5;28;01mfrom\u001b[39;00m \u001b[38;5;21;01mselenium\u001b[39;00m \u001b[38;5;28;01mimport\u001b[39;00m webdriver\n\u001b[0;32m      9\u001b[0m \u001b[38;5;28;01mfrom\u001b[39;00m \u001b[38;5;21;01mselenium\u001b[39;00m\u001b[38;5;21;01m.\u001b[39;00m\u001b[38;5;21;01mcommon\u001b[39;00m\u001b[38;5;21;01m.\u001b[39;00m\u001b[38;5;21;01mexceptions\u001b[39;00m \u001b[38;5;28;01mimport\u001b[39;00m NoSuchElementException\n\u001b[0;32m     10\u001b[0m \u001b[38;5;28;01mfrom\u001b[39;00m \u001b[38;5;21;01mselenium\u001b[39;00m\u001b[38;5;21;01m.\u001b[39;00m\u001b[38;5;21;01mcommon\u001b[39;00m\u001b[38;5;21;01m.\u001b[39;00m\u001b[38;5;21;01mexceptions\u001b[39;00m \u001b[38;5;28;01mimport\u001b[39;00m WebDriverException\n",
      "\u001b[1;31mModuleNotFoundError\u001b[0m: No module named 'selenium'"
     ]
    }
   ],
   "source": [
    "import pandas as pd\n",
    "import numpy as np\n",
    "import time\n",
    "from datetime import datetime\n",
    "from operator import concat\n",
    "\n",
    "\n",
    "from selenium import webdriver\n",
    "from selenium.common.exceptions import NoSuchElementException\n",
    "from selenium.common.exceptions import WebDriverException\n",
    "from selenium.webdriver.chrome.service import Service\n",
    "from webdriver_manager.chrome import ChromeDriverManager\n",
    "from selenium.webdriver.common.by import By\n",
    "from bs4 import BeautifulSoup\n",
    "import requests"
   ]
  },
  {
   "cell_type": "code",
   "execution_count": null,
   "id": "e9d5a287",
   "metadata": {},
   "outputs": [],
   "source": [
    "from datetime import datetime\n",
    "dataextract = datetime.today().strftime('%d%m%Y')\n",
    "databarra = datetime.today().strftime('%d/%m/%Y')\n",
    "##print(datetime.today().strftime('%Y-%m-%d'))\n",
    "#dataextract = print(datetime.today().strftime('%d%m%Y'))"
   ]
  },
  {
   "cell_type": "markdown",
   "id": "8b723087",
   "metadata": {
    "id": "8b723087"
   },
   "source": [
    "## Coleta da base"
   ]
  },
  {
   "cell_type": "code",
   "execution_count": null,
   "id": "f3b8e47a",
   "metadata": {
    "id": "f3b8e47a"
   },
   "outputs": [],
   "source": [
    "# Importando os dados\n",
    "consumidor = pd.read_csv('dados/baselista.csv', sep = ';')"
   ]
  },
  {
   "cell_type": "code",
   "execution_count": null,
   "id": "447ffb47",
   "metadata": {
    "id": "447ffb47",
    "outputId": "55da04bc-6270-4a0b-d0a0-723cd73bcf22"
   },
   "outputs": [],
   "source": [
    "# Visualizando as primeiras 5 linhas\n",
    "consumidor.head()"
   ]
  },
  {
   "cell_type": "code",
   "execution_count": null,
   "id": "48d2b460",
   "metadata": {
    "id": "48d2b460",
    "outputId": "9eace641-75ff-44f2-8099-48cd290f4134"
   },
   "outputs": [],
   "source": [
    "# Obtendo o shape dos dados\n",
    "consumidor.shape\n",
    "consumidor.columns\n",
    "\n",
    "# 143572 observações e 30 variáveis (colunas)"
   ]
  },
  {
   "cell_type": "code",
   "execution_count": null,
   "id": "37773afc",
   "metadata": {
    "id": "37773afc",
    "outputId": "46215dc5-cf2a-4f06-d5f6-4a4a410e7ee6"
   },
   "outputs": [],
   "source": [
    "consumidor.columns"
   ]
  },
  {
   "cell_type": "markdown",
   "id": "d358176c",
   "metadata": {
    "id": "d358176c"
   },
   "source": [
    "#### Web Scrapping Reclame Aqui"
   ]
  },
  {
   "cell_type": "code",
   "execution_count": null,
   "id": "c6ae7bcf",
   "metadata": {
    "id": "c6ae7bcf",
    "outputId": "04f9028d-7c3b-481d-c4bc-70e5addc9891"
   },
   "outputs": [],
   "source": [
    "# Criando um novo df para armazenar apenas os valores únicos\n",
    "df_scores = pd.DataFrame(consumidor['link_reclame'].unique(), columns = ['link_reclame'])\n",
    "#df_scores = pd.DataFrame(consumidor['nome_empresa'].unique(), columns = ['Nome Empresa'])\n",
    "df_scores"
   ]
  },
  {
   "cell_type": "code",
   "execution_count": null,
   "id": "e2634dfd",
   "metadata": {
    "id": "e2634dfd",
    "outputId": "a48d9a06-e838-4ec7-9622-3cbdca48a514"
   },
   "outputs": [],
   "source": [
    "# Criando uma nova coluna para alocar os scores e os nomes das empresas que aparecem no site do Reclame Aqui\n",
    "df_scores['Nome no Reclame Aqui'] = ''\n",
    "df_scores['Score Reclame Aqui'] = ''\n",
    "df_scores['Reclamações respondidas'] = ''\n",
    "df_scores['Voltariam a fazer negócio'] = ''\n",
    "df_scores['Indice de solução'] = ''\n",
    "df_scores['Nota do consumidor'] = ''\n",
    "df_scores['Não respondidas'] = ''\n",
    "df_scores['Quantidade Avaliadas'] = ''\n",
    "df_scores['Quantidade respondidas'] = ''\n",
    "df_scores['Quantidade de reclamacões'] = ''\n",
    "df_scores['Data'] = ''\n",
    "df_scores"
   ]
  },
  {
   "cell_type": "code",
   "execution_count": null,
   "id": "e332dd71",
   "metadata": {},
   "outputs": [],
   "source": [
    "# Abrindo o navegador\n",
    "driver = webdriver.Chrome(service=Service(ChromeDriverManager().install()))\n",
    "\n",
    "for i in range(len(df_scores['link_reclame'])):\n",
    "\n",
    "    #Abrindo site\n",
    "    driver.get(df_scores['link_reclame'][i])\n",
    "\n",
    "    #Coletando dados\n",
    "    elem0 = driver.find_element(By.XPATH, '//*[@id=\"hero\"]/div[2]/div/div[2]/div[1]/h1')\n",
    "    nome_reclame = BeautifulSoup(elem0.get_attribute(\"innerHTML\"), \"html.parser\").get_text().strip()\n",
    "    df_scores['Nome no Reclame Aqui'][i] = nome_reclame\n",
    "\n",
    "    # Localizando o elemento com o score\n",
    "    elem1 = driver.find_element(By.XPATH, '//*[@id=\"reputation\"]/div[1]/div[1]/div[2]/span[2]/b')\n",
    "    nome_score = BeautifulSoup(elem1.get_attribute(\"innerHTML\"), \"html.parser\").get_text().strip()\n",
    "    df_scores['Score Reclame Aqui'][i] = nome_score\n",
    "\n",
    "    # Localizando reclamações respondidas\n",
    "    elem2 = driver.find_element(By.XPATH, '//*[@id=\"reputation\"]/div[2]/div[1]/div[1]/span')\n",
    "    reclam_respond = BeautifulSoup(elem2.get_attribute(\"innerHTML\"), \"html.parser\").get_text().strip()\n",
    "    df_scores['Reclamações respondidas'][i] = reclam_respond\n",
    "\n",
    "    # Localizando Voltariam a fazer negócio\n",
    "    elem3 = driver.find_element(By.XPATH, '//*[@id=\"reputation\"]/div[2]/div[1]/div[2]/span')\n",
    "    volt_negoc = BeautifulSoup(elem3.get_attribute(\"innerHTML\"), \"html.parser\").get_text().strip()\n",
    "    df_scores['Voltariam a fazer negócio'][i] = volt_negoc\n",
    "\n",
    "    # Localizando Indice de solução\n",
    "    elem4 = driver.find_element(By.XPATH, '//*[@id=\"reputation\"]/div[2]/div[1]/div[3]/span')\n",
    "    indi_solu = BeautifulSoup(elem4.get_attribute(\"innerHTML\"), \"html.parser\").get_text().strip()\n",
    "    df_scores['Indice de solução'][i] = indi_solu\n",
    "        \n",
    "    # Localizando Nota do consumidor\n",
    "    elem5 = driver.find_element(By.XPATH, '//*[@id=\"reputation\"]/div[2]/div[1]/div[4]/span')\n",
    "    nota_consu = BeautifulSoup(elem5.get_attribute(\"innerHTML\"), \"html.parser\").get_text().strip()\n",
    "    df_scores['Nota do consumidor'][i] = nota_consu\n",
    "\n",
    "    # Localizando Não respondidas\n",
    "    elem6 = driver.find_element(By.XPATH, '//*[@id=\"reputation\"]/div[2]/div[2]/div[1]/a/div/b')\n",
    "    nao_resp = BeautifulSoup(elem6.get_attribute(\"innerHTML\"), \"html.parser\").get_text().strip()\n",
    "    df_scores['Não respondidas'][i] = nao_resp\n",
    "\n",
    "    # Localizando Quantidade Avaliadas\n",
    "    elem7 = driver.find_element(By.XPATH, '//*[@id=\"reputation\"]/div[2]/div[2]/div[2]/a/div/b')\n",
    "    qtd_avaliad = BeautifulSoup(elem7.get_attribute(\"innerHTML\"), \"html.parser\").get_text().strip()\n",
    "    df_scores['Quantidade Avaliadas'][i] = qtd_avaliad\n",
    "\n",
    "    # Localizando Quantidade respondidas\n",
    "    elem8 = driver.find_element(By.XPATH, '//*[@id=\"reputation\"]/div[1]/div[2]/a[2]/div/div/b')\n",
    "    qtd_respondid = BeautifulSoup(elem8.get_attribute(\"innerHTML\"), \"html.parser\").get_text().strip()\n",
    "    df_scores['Quantidade respondidas'][i] = qtd_respondid\n",
    "\n",
    "    # Localizando Quantidade de reclamacões\n",
    "    elem9 = driver.find_element(By.XPATH, '//*[@id=\"reputation\"]/div[1]/div[2]/a[1]/div/div/b')\n",
    "    qtd_reclama = BeautifulSoup(elem9.get_attribute(\"innerHTML\"), \"html.parser\").get_text().strip()\n",
    "    df_scores['Quantidade de reclamacões'][i] = qtd_reclama\n",
    "\n",
    "    df_scores['Data'][i] = databarra\n",
    "\n",
    "driver.close() \n",
    "\n"
   ]
  },
  {
   "cell_type": "code",
   "execution_count": null,
   "id": "27c53385",
   "metadata": {},
   "outputs": [],
   "source": [
    "# Visualizando o dataframe CLASS_NAME\n",
    "df_scores"
   ]
  },
  {
   "cell_type": "code",
   "execution_count": null,
   "id": "07be6487",
   "metadata": {},
   "outputs": [],
   "source": [
    "# Exportando a tabela\n",
    "df_scores.to_excel('dados/dados_RA.xlsx')"
   ]
  },
  {
   "cell_type": "code",
   "execution_count": null,
   "id": "4c55cc9a",
   "metadata": {},
   "outputs": [],
   "source": [
    "##print(datetime.today().strftime('%Y-%m-%d'))\n",
    "\n",
    "df_scores.to_excel(f'dados/Dados historicos/{dataextract}.xlsx')"
   ]
  },
  {
   "cell_type": "code",
   "execution_count": null,
   "id": "a8f04f9a",
   "metadata": {},
   "outputs": [],
   "source": [
    "df_scores.info()"
   ]
  },
  {
   "cell_type": "code",
   "execution_count": null,
   "id": "43ffa38b",
   "metadata": {},
   "outputs": [],
   "source": []
  }
 ],
 "metadata": {
  "colab": {
   "name": "WebScrapping_ReclameAqui.ipynb",
   "provenance": []
  },
  "kernelspec": {
   "display_name": "Python 3 (ipykernel)",
   "language": "python",
   "name": "python3"
  },
  "language_info": {
   "codemirror_mode": {
    "name": "ipython",
    "version": 3
   },
   "file_extension": ".py",
   "mimetype": "text/x-python",
   "name": "python",
   "nbconvert_exporter": "python",
   "pygments_lexer": "ipython3",
   "version": "3.9.12"
  },
  "vscode": {
   "interpreter": {
    "hash": "50ffd7cd2b844ceebee6e96ba6132f9f67ea098c5214ba28ecc7846b36711810"
   }
  }
 },
 "nbformat": 4,
 "nbformat_minor": 5
}
